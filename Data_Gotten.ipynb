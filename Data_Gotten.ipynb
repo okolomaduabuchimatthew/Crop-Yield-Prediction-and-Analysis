{
 "cells": [
  {
   "cell_type": "markdown",
   "metadata": {},
   "source": [
    "# YIELD PREDICTION"
   ]
  },
  {
   "cell_type": "code",
   "execution_count": 44,
   "metadata": {},
   "outputs": [],
   "source": [
    "import numpy as np\n",
    "import seaborn as sns\n",
    "import statsmodels.formula.api as smf\n",
    "import matplotlib.pyplot as plt\n",
    "from matplotlib import style\n",
    "import pandas as pd\n",
    "import plotly.express as px\n",
    "import missingno as mns\n",
    "%matplotlib inline"
   ]
  },
  {
   "cell_type": "code",
   "execution_count": 45,
   "metadata": {},
   "outputs": [
    {
     "data": {
      "text/html": [
       "<div>\n",
       "<style scoped>\n",
       "    .dataframe tbody tr th:only-of-type {\n",
       "        vertical-align: middle;\n",
       "    }\n",
       "\n",
       "    .dataframe tbody tr th {\n",
       "        vertical-align: top;\n",
       "    }\n",
       "\n",
       "    .dataframe thead th {\n",
       "        text-align: right;\n",
       "    }\n",
       "</style>\n",
       "<table border=\"1\" class=\"dataframe\">\n",
       "  <thead>\n",
       "    <tr style=\"text-align: right;\">\n",
       "      <th></th>\n",
       "      <th>Crop</th>\n",
       "      <th>Ph</th>\n",
       "      <th>Temperature</th>\n",
       "      <th>Soil Moisture</th>\n",
       "      <th>Rainfall</th>\n",
       "      <th>Sunlight Intesity</th>\n",
       "      <th>Production</th>\n",
       "    </tr>\n",
       "  </thead>\n",
       "  <tbody>\n",
       "    <tr>\n",
       "      <th>0</th>\n",
       "      <td>Pepper</td>\n",
       "      <td>5.8</td>\n",
       "      <td>28.00000</td>\n",
       "      <td>26</td>\n",
       "      <td>2284.13302</td>\n",
       "      <td>3580</td>\n",
       "      <td>2.84133</td>\n",
       "    </tr>\n",
       "    <tr>\n",
       "      <th>1</th>\n",
       "      <td>Pepper</td>\n",
       "      <td>5.8</td>\n",
       "      <td>28.00000</td>\n",
       "      <td>31</td>\n",
       "      <td>2284.13727</td>\n",
       "      <td>1580</td>\n",
       "      <td>2.84137</td>\n",
       "    </tr>\n",
       "    <tr>\n",
       "      <th>2</th>\n",
       "      <td>Pepper</td>\n",
       "      <td>5.8</td>\n",
       "      <td>27.00000</td>\n",
       "      <td>28</td>\n",
       "      <td>2284.13844</td>\n",
       "      <td>7300</td>\n",
       "      <td>2.84138</td>\n",
       "    </tr>\n",
       "    <tr>\n",
       "      <th>3</th>\n",
       "      <td>Pepper</td>\n",
       "      <td>5.8</td>\n",
       "      <td>27.00000</td>\n",
       "      <td>29</td>\n",
       "      <td>2284.14179</td>\n",
       "      <td>2680</td>\n",
       "      <td>2.84142</td>\n",
       "    </tr>\n",
       "    <tr>\n",
       "      <th>4</th>\n",
       "      <td>Pepper</td>\n",
       "      <td>5.8</td>\n",
       "      <td>26.00000</td>\n",
       "      <td>30</td>\n",
       "      <td>2284.21053</td>\n",
       "      <td>1022</td>\n",
       "      <td>2.84211</td>\n",
       "    </tr>\n",
       "    <tr>\n",
       "      <th>...</th>\n",
       "      <td>...</td>\n",
       "      <td>...</td>\n",
       "      <td>...</td>\n",
       "      <td>...</td>\n",
       "      <td>...</td>\n",
       "      <td>...</td>\n",
       "      <td>...</td>\n",
       "    </tr>\n",
       "    <tr>\n",
       "      <th>364</th>\n",
       "      <td>Maize</td>\n",
       "      <td>6.5</td>\n",
       "      <td>27.57876</td>\n",
       "      <td>23</td>\n",
       "      <td>919.98762</td>\n",
       "      <td>2145</td>\n",
       "      <td>5.59983</td>\n",
       "    </tr>\n",
       "    <tr>\n",
       "      <th>365</th>\n",
       "      <td>Maize</td>\n",
       "      <td>6.5</td>\n",
       "      <td>27.57876</td>\n",
       "      <td>28</td>\n",
       "      <td>919.99765</td>\n",
       "      <td>1580</td>\n",
       "      <td>5.59997</td>\n",
       "    </tr>\n",
       "    <tr>\n",
       "      <th>366</th>\n",
       "      <td>Maize</td>\n",
       "      <td>6.5</td>\n",
       "      <td>27.57876</td>\n",
       "      <td>26</td>\n",
       "      <td>919.99869</td>\n",
       "      <td>7300</td>\n",
       "      <td>5.59998</td>\n",
       "    </tr>\n",
       "    <tr>\n",
       "      <th>367</th>\n",
       "      <td>Maize</td>\n",
       "      <td>6.5</td>\n",
       "      <td>27.57876</td>\n",
       "      <td>26</td>\n",
       "      <td>920.00000</td>\n",
       "      <td>680</td>\n",
       "      <td>5.60000</td>\n",
       "    </tr>\n",
       "    <tr>\n",
       "      <th>368</th>\n",
       "      <td>Maize</td>\n",
       "      <td>6.5</td>\n",
       "      <td>27.57876</td>\n",
       "      <td>27</td>\n",
       "      <td>920.00000</td>\n",
       "      <td>1022</td>\n",
       "      <td>5.60000</td>\n",
       "    </tr>\n",
       "  </tbody>\n",
       "</table>\n",
       "<p>369 rows × 7 columns</p>\n",
       "</div>"
      ],
      "text/plain": [
       "       Crop   Ph  Temperature  Soil Moisture    Rainfall  Sunlight Intesity  \\\n",
       "0    Pepper  5.8     28.00000             26  2284.13302               3580   \n",
       "1    Pepper  5.8     28.00000             31  2284.13727               1580   \n",
       "2    Pepper  5.8     27.00000             28  2284.13844               7300   \n",
       "3    Pepper  5.8     27.00000             29  2284.14179               2680   \n",
       "4    Pepper  5.8     26.00000             30  2284.21053               1022   \n",
       "..      ...  ...          ...            ...         ...                ...   \n",
       "364   Maize  6.5     27.57876             23   919.98762               2145   \n",
       "365   Maize  6.5     27.57876             28   919.99765               1580   \n",
       "366   Maize  6.5     27.57876             26   919.99869               7300   \n",
       "367   Maize  6.5     27.57876             26   920.00000                680   \n",
       "368   Maize  6.5     27.57876             27   920.00000               1022   \n",
       "\n",
       "     Production  \n",
       "0       2.84133  \n",
       "1       2.84137  \n",
       "2       2.84138  \n",
       "3       2.84142  \n",
       "4       2.84211  \n",
       "..          ...  \n",
       "364     5.59983  \n",
       "365     5.59997  \n",
       "366     5.59998  \n",
       "367     5.60000  \n",
       "368     5.60000  \n",
       "\n",
       "[369 rows x 7 columns]"
      ]
     },
     "execution_count": 45,
     "metadata": {},
     "output_type": "execute_result"
    }
   ],
   "source": [
    "cropyield=pd.read_csv('Data_gotten.csv')\n",
    "cropyield"
   ]
  },
  {
   "cell_type": "code",
   "execution_count": 46,
   "metadata": {},
   "outputs": [
    {
     "name": "stdout",
     "output_type": "stream",
     "text": [
      "<class 'pandas.core.frame.DataFrame'>\n",
      "RangeIndex: 369 entries, 0 to 368\n",
      "Data columns (total 7 columns):\n",
      " #   Column             Non-Null Count  Dtype  \n",
      "---  ------             --------------  -----  \n",
      " 0   Crop               369 non-null    object \n",
      " 1   Ph                 369 non-null    float64\n",
      " 2   Temperature        369 non-null    float64\n",
      " 3   Soil Moisture      369 non-null    int64  \n",
      " 4   Rainfall           369 non-null    float64\n",
      " 5   Sunlight Intesity  369 non-null    int64  \n",
      " 6   Production         369 non-null    float64\n",
      "dtypes: float64(4), int64(2), object(1)\n",
      "memory usage: 20.3+ KB\n"
     ]
    }
   ],
   "source": [
    "cropyield.info()"
   ]
  },
  {
   "cell_type": "code",
   "execution_count": 47,
   "metadata": {},
   "outputs": [
    {
     "data": {
      "text/plain": [
       "(369, 7)"
      ]
     },
     "execution_count": 47,
     "metadata": {},
     "output_type": "execute_result"
    }
   ],
   "source": [
    "cropyield.shape"
   ]
  },
  {
   "cell_type": "code",
   "execution_count": 48,
   "metadata": {},
   "outputs": [
    {
     "data": {
      "text/plain": [
       "Crop                 0\n",
       "Ph                   0\n",
       "Temperature          0\n",
       "Soil Moisture        0\n",
       "Rainfall             0\n",
       "Sunlight Intesity    0\n",
       "Production           0\n",
       "dtype: int64"
      ]
     },
     "execution_count": 48,
     "metadata": {},
     "output_type": "execute_result"
    }
   ],
   "source": [
    "cropyield.isna().sum()"
   ]
  },
  {
   "cell_type": "code",
   "execution_count": 49,
   "metadata": {},
   "outputs": [
    {
     "data": {
      "text/html": [
       "<div>\n",
       "<style scoped>\n",
       "    .dataframe tbody tr th:only-of-type {\n",
       "        vertical-align: middle;\n",
       "    }\n",
       "\n",
       "    .dataframe tbody tr th {\n",
       "        vertical-align: top;\n",
       "    }\n",
       "\n",
       "    .dataframe thead th {\n",
       "        text-align: right;\n",
       "    }\n",
       "</style>\n",
       "<table border=\"1\" class=\"dataframe\">\n",
       "  <thead>\n",
       "    <tr style=\"text-align: right;\">\n",
       "      <th></th>\n",
       "      <th>Ph</th>\n",
       "      <th>Temperature</th>\n",
       "      <th>Soil Moisture</th>\n",
       "      <th>Rainfall</th>\n",
       "      <th>Sunlight Intesity</th>\n",
       "      <th>Production</th>\n",
       "    </tr>\n",
       "  </thead>\n",
       "  <tbody>\n",
       "    <tr>\n",
       "      <th>count</th>\n",
       "      <td>369.000000</td>\n",
       "      <td>369.000000</td>\n",
       "      <td>369.000000</td>\n",
       "      <td>369.000000</td>\n",
       "      <td>369.000000</td>\n",
       "      <td>369.000000</td>\n",
       "    </tr>\n",
       "    <tr>\n",
       "      <th>mean</th>\n",
       "      <td>6.256369</td>\n",
       "      <td>23.908092</td>\n",
       "      <td>23.983740</td>\n",
       "      <td>887.473990</td>\n",
       "      <td>2996.189702</td>\n",
       "      <td>2.043922</td>\n",
       "    </tr>\n",
       "    <tr>\n",
       "      <th>std</th>\n",
       "      <td>0.584834</td>\n",
       "      <td>3.507320</td>\n",
       "      <td>9.020493</td>\n",
       "      <td>608.729791</td>\n",
       "      <td>1732.160570</td>\n",
       "      <td>1.804892</td>\n",
       "    </tr>\n",
       "    <tr>\n",
       "      <th>min</th>\n",
       "      <td>5.500000</td>\n",
       "      <td>16.610000</td>\n",
       "      <td>10.000000</td>\n",
       "      <td>303.750000</td>\n",
       "      <td>680.000000</td>\n",
       "      <td>0.000000</td>\n",
       "    </tr>\n",
       "    <tr>\n",
       "      <th>25%</th>\n",
       "      <td>5.900000</td>\n",
       "      <td>20.635000</td>\n",
       "      <td>15.000000</td>\n",
       "      <td>517.333330</td>\n",
       "      <td>1987.000000</td>\n",
       "      <td>0.839510</td>\n",
       "    </tr>\n",
       "    <tr>\n",
       "      <th>50%</th>\n",
       "      <td>6.200000</td>\n",
       "      <td>25.000000</td>\n",
       "      <td>24.000000</td>\n",
       "      <td>726.412350</td>\n",
       "      <td>2173.000000</td>\n",
       "      <td>1.142860</td>\n",
       "    </tr>\n",
       "    <tr>\n",
       "      <th>75%</th>\n",
       "      <td>6.500000</td>\n",
       "      <td>26.000000</td>\n",
       "      <td>29.000000</td>\n",
       "      <td>903.947190</td>\n",
       "      <td>3822.000000</td>\n",
       "      <td>3.128380</td>\n",
       "    </tr>\n",
       "    <tr>\n",
       "      <th>max</th>\n",
       "      <td>7.500000</td>\n",
       "      <td>28.000000</td>\n",
       "      <td>47.000000</td>\n",
       "      <td>2423.700830</td>\n",
       "      <td>7300.000000</td>\n",
       "      <td>5.600000</td>\n",
       "    </tr>\n",
       "  </tbody>\n",
       "</table>\n",
       "</div>"
      ],
      "text/plain": [
       "               Ph  Temperature  Soil Moisture     Rainfall  Sunlight Intesity  \\\n",
       "count  369.000000   369.000000     369.000000   369.000000         369.000000   \n",
       "mean     6.256369    23.908092      23.983740   887.473990        2996.189702   \n",
       "std      0.584834     3.507320       9.020493   608.729791        1732.160570   \n",
       "min      5.500000    16.610000      10.000000   303.750000         680.000000   \n",
       "25%      5.900000    20.635000      15.000000   517.333330        1987.000000   \n",
       "50%      6.200000    25.000000      24.000000   726.412350        2173.000000   \n",
       "75%      6.500000    26.000000      29.000000   903.947190        3822.000000   \n",
       "max      7.500000    28.000000      47.000000  2423.700830        7300.000000   \n",
       "\n",
       "       Production  \n",
       "count  369.000000  \n",
       "mean     2.043922  \n",
       "std      1.804892  \n",
       "min      0.000000  \n",
       "25%      0.839510  \n",
       "50%      1.142860  \n",
       "75%      3.128380  \n",
       "max      5.600000  "
      ]
     },
     "execution_count": 49,
     "metadata": {},
     "output_type": "execute_result"
    }
   ],
   "source": [
    "cropyield.describe()"
   ]
  },
  {
   "cell_type": "code",
   "execution_count": 50,
   "metadata": {
    "scrolled": false
   },
   "outputs": [
    {
     "data": {
      "text/html": [
       "<div>\n",
       "<style scoped>\n",
       "    .dataframe tbody tr th:only-of-type {\n",
       "        vertical-align: middle;\n",
       "    }\n",
       "\n",
       "    .dataframe tbody tr th {\n",
       "        vertical-align: top;\n",
       "    }\n",
       "\n",
       "    .dataframe thead th {\n",
       "        text-align: right;\n",
       "    }\n",
       "</style>\n",
       "<table border=\"1\" class=\"dataframe\">\n",
       "  <thead>\n",
       "    <tr style=\"text-align: right;\">\n",
       "      <th></th>\n",
       "      <th>Ph</th>\n",
       "      <th>Temperature</th>\n",
       "      <th>Soil Moisture</th>\n",
       "      <th>Rainfall</th>\n",
       "      <th>Sunlight Intesity</th>\n",
       "      <th>Production</th>\n",
       "    </tr>\n",
       "    <tr>\n",
       "      <th>Crop</th>\n",
       "      <th></th>\n",
       "      <th></th>\n",
       "      <th></th>\n",
       "      <th></th>\n",
       "      <th></th>\n",
       "      <th></th>\n",
       "    </tr>\n",
       "  </thead>\n",
       "  <tbody>\n",
       "    <tr>\n",
       "      <th>Barley</th>\n",
       "      <td>375.0</td>\n",
       "      <td>836.62000</td>\n",
       "      <td>909</td>\n",
       "      <td>43336.17837</td>\n",
       "      <td>152530</td>\n",
       "      <td>55.60055</td>\n",
       "    </tr>\n",
       "    <tr>\n",
       "      <th>Cowpea</th>\n",
       "      <td>300.0</td>\n",
       "      <td>1300.00000</td>\n",
       "      <td>1379</td>\n",
       "      <td>36315.22569</td>\n",
       "      <td>145983</td>\n",
       "      <td>13.15228</td>\n",
       "    </tr>\n",
       "    <tr>\n",
       "      <th>Garlic</th>\n",
       "      <td>310.0</td>\n",
       "      <td>1027.37500</td>\n",
       "      <td>1109</td>\n",
       "      <td>25862.40290</td>\n",
       "      <td>151526</td>\n",
       "      <td>66.33862</td>\n",
       "    </tr>\n",
       "    <tr>\n",
       "      <th>Groundnut</th>\n",
       "      <td>313.5</td>\n",
       "      <td>1460.34000</td>\n",
       "      <td>1664</td>\n",
       "      <td>33278.31341</td>\n",
       "      <td>163356</td>\n",
       "      <td>46.94200</td>\n",
       "    </tr>\n",
       "    <tr>\n",
       "      <th>Maize</th>\n",
       "      <td>403.0</td>\n",
       "      <td>1709.88312</td>\n",
       "      <td>1183</td>\n",
       "      <td>56361.07964</td>\n",
       "      <td>187351</td>\n",
       "      <td>338.15217</td>\n",
       "    </tr>\n",
       "    <tr>\n",
       "      <th>Pepper</th>\n",
       "      <td>292.1</td>\n",
       "      <td>1244.00000</td>\n",
       "      <td>1483</td>\n",
       "      <td>117108.88737</td>\n",
       "      <td>153284</td>\n",
       "      <td>176.47085</td>\n",
       "    </tr>\n",
       "    <tr>\n",
       "      <th>Potato</th>\n",
       "      <td>315.0</td>\n",
       "      <td>1243.86800</td>\n",
       "      <td>1123</td>\n",
       "      <td>15215.81496</td>\n",
       "      <td>151564</td>\n",
       "      <td>57.55064</td>\n",
       "    </tr>\n",
       "  </tbody>\n",
       "</table>\n",
       "</div>"
      ],
      "text/plain": [
       "              Ph  Temperature  Soil Moisture      Rainfall  Sunlight Intesity  \\\n",
       "Crop                                                                            \n",
       "Barley     375.0    836.62000            909   43336.17837             152530   \n",
       "Cowpea     300.0   1300.00000           1379   36315.22569             145983   \n",
       "Garlic     310.0   1027.37500           1109   25862.40290             151526   \n",
       "Groundnut  313.5   1460.34000           1664   33278.31341             163356   \n",
       "Maize      403.0   1709.88312           1183   56361.07964             187351   \n",
       "Pepper     292.1   1244.00000           1483  117108.88737             153284   \n",
       "Potato     315.0   1243.86800           1123   15215.81496             151564   \n",
       "\n",
       "           Production  \n",
       "Crop                   \n",
       "Barley       55.60055  \n",
       "Cowpea       13.15228  \n",
       "Garlic       66.33862  \n",
       "Groundnut    46.94200  \n",
       "Maize       338.15217  \n",
       "Pepper      176.47085  \n",
       "Potato       57.55064  "
      ]
     },
     "execution_count": 50,
     "metadata": {},
     "output_type": "execute_result"
    }
   ],
   "source": [
    "Crop = cropyield.groupby('Crop').sum()\n",
    "\n",
    "Crop"
   ]
  },
  {
   "cell_type": "code",
   "execution_count": 51,
   "metadata": {},
   "outputs": [
    {
     "data": {
      "image/png": "[encoded data removed]",
      "text/plain": [
       "<Figure size 1080x504 with 1 Axes>"
      ]
     },
     "metadata": {
      "needs_background": "light"
     },
     "output_type": "display_data"
    }
   ],
   "source": [
    "# Graphical plot of Crop present production \n",
    "barplt, ax = plt.subplots(figsize = (15,7))\n",
    "CROPS = [Crop for Crop,cropyield in cropyield.groupby('Crop')]\n",
    "plt.bar(CROPS,Crop['Production'])\n",
    "plt.xlabel('Crops')\n",
    "plt.ylabel('Production')\n",
    "plt.title('GRAPHICAL REPRESENTATION OF THE CROP PRODUCTION ')\n",
    "plt.show()\n"
   ]
  },
  {
   "cell_type": "code",
   "execution_count": 52,
   "metadata": {},
   "outputs": [],
   "source": [
    "categorical = ['Crop']\n",
    "from sklearn.preprocessing import LabelEncoder\n",
    "enc = LabelEncoder()\n",
    "for car in categorical:\n",
    "    cropyield[car] = enc.fit_transform(cropyield[car])"
   ]
  },
  {
   "cell_type": "code",
   "execution_count": 53,
   "metadata": {},
   "outputs": [],
   "source": [
    "X1 = cropyield[['Crop','Ph','Temperature','Soil Moisture','Rainfall','Sunlight Intesity']]\n",
    "Y1 = cropyield.Production"
   ]
  },
  {
   "cell_type": "code",
   "execution_count": 54,
   "metadata": {},
   "outputs": [],
   "source": [
    "from sklearn.model_selection import train_test_split\n",
    "\n",
    "# Split data\n",
    "X1_train, X1_test, y1_train, y1_test = train_test_split(X1, Y1, test_size= 0.2,random_state=1)"
   ]
  },
  {
   "cell_type": "code",
   "execution_count": 55,
   "metadata": {},
   "outputs": [
    {
     "data": {
      "text/plain": [
       "LinearRegression()"
      ]
     },
     "execution_count": 55,
     "metadata": {},
     "output_type": "execute_result"
    }
   ],
   "source": [
    "#linear_regression\n",
    "from sklearn.linear_model import LinearRegression\n",
    "# Instantiate model\n",
    "lm_2 = LinearRegression()\n",
    "# Fit Model\n",
    "lm_2.fit(X1_train, y1_train)"
   ]
  },
  {
   "cell_type": "code",
   "execution_count": 56,
   "metadata": {},
   "outputs": [
    {
     "name": "stdout",
     "output_type": "stream",
     "text": [
      "The accuracy of this model is:  65.0139033892499\n"
     ]
    }
   ],
   "source": [
    "score = lm_2.score(X1_test,y1_test)\n",
    "print(\"The accuracy of this model is: \", score*100)"
   ]
  },
  {
   "cell_type": "code",
   "execution_count": null,
   "metadata": {},
   "outputs": [],
   "source": []
  },
  {
   "cell_type": "code",
   "execution_count": 76,
   "metadata": {},
   "outputs": [],
   "source": [
    "# Predict\n",
    "y1_pred = lm_2.predict(X1_test)"
   ]
  },
  {
   "cell_type": "code",
   "execution_count": 58,
   "metadata": {},
   "outputs": [
    {
     "name": "stdout",
     "output_type": "stream",
     "text": [
      "MAE: 0.9132474217906968\n",
      "MSE: 1.1152333066429434\n",
      "RMsE: 1.0560460722160485\n"
     ]
    }
   ],
   "source": [
    "print('MAE:',metrics.mean_absolute_error(y1_test,y1_pred))\n",
    "print('MSE:',metrics.mean_squared_error(y1_test,y1_pred))\n",
    "print('RMsE:',np.sqrt(metrics.mean_squared_error(y1_test,y1_pred)))"
   ]
  },
  {
   "cell_type": "code",
   "execution_count": null,
   "metadata": {},
   "outputs": [],
   "source": []
  },
  {
   "cell_type": "code",
   "execution_count": 59,
   "metadata": {},
   "outputs": [
    {
     "data": {
      "text/plain": [
       "KNeighborsRegressor()"
      ]
     },
     "execution_count": 59,
     "metadata": {},
     "output_type": "execute_result"
    }
   ],
   "source": [
    "# K-nearest neighbors regression \n",
    "from sklearn.neighbors import KNeighborsRegressor\n",
    "knn=KNeighborsRegressor()\n",
    "knn.fit(X1_train,y1_train)"
   ]
  },
  {
   "cell_type": "code",
   "execution_count": 60,
   "metadata": {},
   "outputs": [
    {
     "name": "stdout",
     "output_type": "stream",
     "text": [
      "The accuracy of this model is:  68.71353960540468\n"
     ]
    }
   ],
   "source": [
    "score2 = knn.score(X1_test,y1_test)\n",
    "print(\"The accuracy of this model is: \", score2*100)"
   ]
  },
  {
   "cell_type": "code",
   "execution_count": 61,
   "metadata": {},
   "outputs": [],
   "source": [
    "y_pred_knn=knn.predict(X1_test)"
   ]
  },
  {
   "cell_type": "code",
   "execution_count": 62,
   "metadata": {},
   "outputs": [
    {
     "name": "stdout",
     "output_type": "stream",
     "text": [
      "MAE: 0.5985480540540541\n",
      "MSE: 0.9973019587528648\n",
      "RMsE: 0.9986500682185251\n"
     ]
    }
   ],
   "source": [
    "print('MAE:',metrics.mean_absolute_error(y1_test,y_pred_knn))\n",
    "print('MSE:',metrics.mean_squared_error(y1_test,y_pred_knn))\n",
    "print('RMsE:',np.sqrt(metrics.mean_squared_error(y1_test,y_pred_knn)))"
   ]
  },
  {
   "cell_type": "code",
   "execution_count": null,
   "metadata": {},
   "outputs": [],
   "source": []
  },
  {
   "cell_type": "code",
   "execution_count": 63,
   "metadata": {},
   "outputs": [
    {
     "data": {
      "text/plain": [
       "DecisionTreeRegressor()"
      ]
     },
     "execution_count": 63,
     "metadata": {},
     "output_type": "execute_result"
    }
   ],
   "source": [
    "# Fitting Decision Tree Regression to the dataset\n",
    "from sklearn.tree import DecisionTreeRegressor\n",
    "regressor = DecisionTreeRegressor()\n",
    "regressor.fit(X1_train, y1_train)"
   ]
  },
  {
   "cell_type": "code",
   "execution_count": 64,
   "metadata": {},
   "outputs": [
    {
     "name": "stdout",
     "output_type": "stream",
     "text": [
      "The accuracy of this model is:  99.64307739853125\n"
     ]
    }
   ],
   "source": [
    "score3 = regressor.score(X1_test,y1_test)\n",
    "print(\"The accuracy of this model is: \", score3*100)"
   ]
  },
  {
   "cell_type": "code",
   "execution_count": 65,
   "metadata": {},
   "outputs": [
    {
     "data": {
      "text/plain": [
       "array([0.84072, 0.26361, 1.33333, 0.83636, 0.2545 , 0.275  , 1.4    ,\n",
       "       1.11343, 5.39216, 3.11835, 0.2642 , 5.46751, 1.33333, 1.10619,\n",
       "       0.83688, 0.26441, 1.12406, 5.59983, 1.09943, 0.83688, 1.11705,\n",
       "       0.2641 , 1.32653, 0.83721, 0.8399 , 1.31944, 1.33333, 1.33333,\n",
       "       0.2545 , 0.25806, 1.     , 3.11835, 0.26418, 0.26269, 0.8399 ,\n",
       "       3.12838, 5.50331, 1.3125 , 0.83688, 5.57114, 0.83714, 5.39216,\n",
       "       3.     , 1.10833, 3.12838, 1.10638, 1.33333, 1.33333, 0.275  ,\n",
       "       4.21753, 0.26418, 1.33333, 0.26761, 1.33333, 0.83916, 5.39216,\n",
       "       0.26361, 0.83797, 3.     , 3.     , 0.84015, 0.83529, 1.33333,\n",
       "       1.33333, 5.55283, 0.2641 , 5.39216, 1.33333, 1.3    , 0.83721,\n",
       "       5.50331, 1.     , 5.4537 , 5.35009])"
      ]
     },
     "execution_count": 65,
     "metadata": {},
     "output_type": "execute_result"
    }
   ],
   "source": [
    "y_pred = regressor.predict(X1_test)"
   ]
  },
  {
   "cell_type": "code",
   "execution_count": null,
   "metadata": {},
   "outputs": [],
   "source": []
  },
  {
   "cell_type": "code",
   "execution_count": 66,
   "metadata": {},
   "outputs": [
    {
     "name": "stdout",
     "output_type": "stream",
     "text": [
      "Root Mean Square error is:  0.10666505090133216\n"
     ]
    }
   ],
   "source": [
    "# RMSE\n",
    "from sklearn import metrics\n",
    "rmse = np.sqrt(metrics.mean_squared_error(y1_test, y_pred))\n",
    "print('Root Mean Square error is: ',rmse)"
   ]
  },
  {
   "cell_type": "code",
   "execution_count": 67,
   "metadata": {},
   "outputs": [
    {
     "name": "stdout",
     "output_type": "stream",
     "text": [
      "MAE: 0.021855945945945972\n",
      "MSE: 0.011377433083783781\n",
      "RMsE: 0.10666505090133216\n"
     ]
    }
   ],
   "source": [
    "print('MAE:',metrics.mean_absolute_error(y1_test,y_pred))\n",
    "print('MSE:',metrics.mean_squared_error(y1_test,y_pred))\n",
    "print('RMsE:',np.sqrt(metrics.mean_squared_error(y1_test,y_pred)))"
   ]
  },
  {
   "cell_type": "code",
   "execution_count": 79,
   "metadata": {},
   "outputs": [],
   "source": [
    "#linear_model_1 = smf.ols(formula='Production ~ Crop+Soil Moisture+Rainfall+Temperature+Ph+Sunlight Intesity', data=cropyield).fit()\n",
    "#print(linear_model_1.params)"
   ]
  },
  {
   "cell_type": "code",
   "execution_count": 78,
   "metadata": {},
   "outputs": [
    {
     "data": {
      "image/png": "[encoded data removed]",
      "text/plain": [
       "<Figure size 2116.8x504 with 6 Axes>"
      ]
     },
     "metadata": {},
     "output_type": "display_data"
    },
    {
     "name": "stdout",
     "output_type": "stream",
     "text": [
      " Representation of relationship between production of crops and different parameters.\n"
     ]
    }
   ],
   "source": [
    "sns.set(rc={\"figure.figsize\":(12, 8)})\n",
    "sns.pairplot(cropyield, x_vars=['Crop','Ph','Temperature','Soil Moisture','Rainfall','Sunlight Intesity'], y_vars='Production', height=7, aspect=0.7,kind='reg')\n",
    "plt.show()\n",
    "print(' Representation of relationship between production of crops and different parameters.')"
   ]
  },
  {
   "cell_type": "code",
   "execution_count": null,
   "metadata": {},
   "outputs": [],
   "source": []
  },
  {
   "cell_type": "markdown",
   "metadata": {},
   "source": [
    "# CROP PREDICTION"
   ]
  },
  {
   "cell_type": "code",
   "execution_count": 92,
   "metadata": {},
   "outputs": [],
   "source": [
    "import pandas as pd\n",
    "import numpy as np\n",
    "from sklearn.model_selection import train_test_split\n",
    "import urllib.request\n",
    "import json\n",
    "import time"
   ]
  },
  {
   "cell_type": "code",
   "execution_count": 93,
   "metadata": {},
   "outputs": [],
   "source": [
    "READ_API_KEY='3G9GGW09Q5U4V7IK'\n",
    "CHANNEL_ID= '998487'"
   ]
  },
  {
   "cell_type": "code",
   "execution_count": 94,
   "metadata": {},
   "outputs": [
    {
     "name": "stdout",
     "output_type": "stream",
     "text": [
      "   temperature   humidity        ph    rainfall label\n",
      "0    20.879744  82.002744  6.502985  202.935536  rice\n",
      "1    21.770462  80.319644  7.038096  226.655537  rice\n",
      "2    23.004459  82.320763  7.840207  263.964248  rice\n",
      "3    26.491096  80.158363  6.980401  242.864034  rice\n",
      "4    20.130175  81.604873  7.628473  262.717340  rice\n"
     ]
    }
   ],
   "source": [
    "#Reading the csv file\n",
    "data=pd.read_csv('cpdata_update.0.csv')\n",
    "print(data.head())"
   ]
  },
  {
   "cell_type": "code",
   "execution_count": 95,
   "metadata": {},
   "outputs": [
    {
     "name": "stdout",
     "output_type": "stream",
     "text": [
      "The data present in one row of the dataset is\n",
      "   temperature   humidity        ph    rainfall  Pigeon Peas  Sugarcane  \\\n",
      "0    20.879744  82.002744  6.502985  202.935536            0          0   \n",
      "\n",
      "   maize  millet  muskmelon  rice  watermelon  \n",
      "0      0       0          0     1           0  \n"
     ]
    }
   ],
   "source": [
    "#Creating dummy variable for target i.e label\n",
    "label= pd.get_dummies(data.label).iloc[: , 1:]\n",
    "data= pd.concat([data,label],axis=1)\n",
    "data.drop('label', axis=1,inplace=True)\n",
    "print('The data present in one row of the dataset is')\n",
    "print(data.head(1))"
   ]
  },
  {
   "cell_type": "code",
   "execution_count": 96,
   "metadata": {},
   "outputs": [],
   "source": [
    "train=data.iloc[:, 0:3].values\n",
    "test=data.iloc[: ,4:].values"
   ]
  },
  {
   "cell_type": "code",
   "execution_count": 97,
   "metadata": {},
   "outputs": [],
   "source": [
    "#Dividing the data into training and test set\n",
    "X_train,X_test,y_train,y_test=train_test_split(train,test,test_size=0.3)"
   ]
  },
  {
   "cell_type": "code",
   "execution_count": 98,
   "metadata": {},
   "outputs": [],
   "source": [
    "from sklearn.preprocessing import StandardScaler\n",
    "sc = StandardScaler()\n",
    "X_train = sc.fit_transform(X_train)\n",
    "X_test = sc.transform(X_test)"
   ]
  },
  {
   "cell_type": "code",
   "execution_count": 99,
   "metadata": {},
   "outputs": [],
   "source": [
    "#Importing Decision Tree classifier\n",
    "from sklearn.tree import DecisionTreeRegressor\n",
    "clf=DecisionTreeRegressor()"
   ]
  },
  {
   "cell_type": "code",
   "execution_count": 100,
   "metadata": {},
   "outputs": [],
   "source": [
    "#Fitting the classifier into training set\n",
    "clf.fit(X_train,y_train)\n",
    "pred=clf.predict(X_test)"
   ]
  },
  {
   "cell_type": "code",
   "execution_count": 101,
   "metadata": {},
   "outputs": [
    {
     "name": "stdout",
     "output_type": "stream",
     "text": [
      "The accuracy of this model is:  94.16666666666667\n"
     ]
    }
   ],
   "source": [
    "from sklearn.metrics import accuracy_score\n",
    "# Finding the accuracy of the model\n",
    "a=accuracy_score(y_test,pred)\n",
    "print(\"The accuracy of this model is: \", a*100)"
   ]
  },
  {
   "cell_type": "code",
   "execution_count": 102,
   "metadata": {},
   "outputs": [
    {
     "name": "stdout",
     "output_type": "stream",
     "text": [
      "['18.31', '24.32', '5.69']\n",
      "pH of the soil is:  5.69\n",
      "The soil has enough nutrients\n"
     ]
    }
   ],
   "source": [
    "for i in range (1,11):\n",
    "    TS = urllib.request.urlopen(\"http://api.thingspeak.com/channels/%s/feeds/last.json?api_key=%s\" \\\n",
    "                       % (CHANNEL_ID,READ_API_KEY))\n",
    "\n",
    "    response = TS.read()\n",
    "    data = json.loads(response)\n",
    "\n",
    "    a = data['created_at']\n",
    "    b = data['field1']\n",
    "    c = data['field2']\n",
    "    d = data['field3']\n",
    "    e = data['field4']\n",
    "\n",
    "    l=[]\n",
    "    l.append(b)\n",
    "    l.append(c)\n",
    "    l.append(d)\n",
    "print(l)\n",
    "print(\"pH of the soil is: \",d)\n",
    "\n",
    "predictcrop=[l]\n",
    "if (d<str(5.5)):\n",
    "    print(\"The soil is deficient of nutrients but has minerals\")\n",
    "elif (str(5.5)<d<str(8)):\n",
    "    print(\"The soil has enough nutrients\")\n",
    "else:\n",
    "    print(\"The soil is deficient of nutrients and minerals\")"
   ]
  },
  {
   "cell_type": "code",
   "execution_count": 103,
   "metadata": {},
   "outputs": [],
   "source": [
    "# Putting the names of crop in a single list\n",
    "crops=['wheat','mungbean','Tea','millet','maize','lentil','jute','cofee','cotton','ground nut','peas','rubber','sugarcane','tobacco','kidney beans','moth beans','coconut','blackgram','adzuki beans','pigeon peas','chick peas','banana','grapes','apple','mango','muskmelon','orange','papaya','watermelon','pomegranate']\n",
    "cr='rice'"
   ]
  },
  {
   "cell_type": "code",
   "execution_count": 108,
   "metadata": {},
   "outputs": [
    {
     "name": "stdout",
     "output_type": "stream",
     "text": [
      "The predicted crop is maize\n",
      "\n",
      "Thank you,Hope you like it.\n",
      "Please,your fitback will be appreciated\n"
     ]
    },
    {
     "data": {
      "text/plain": [
       "\"Sending the predicted crop to database\\ncp=firebase.put('/croppredicted','crop',c)\""
      ]
     },
     "execution_count": 108,
     "metadata": {},
     "output_type": "execute_result"
    }
   ],
   "source": [
    "#Predicting the crop\n",
    "predictions = clf.predict(predictcrop)\n",
    "count=0\n",
    "for i in range(0,30):\n",
    "    if(predictions[0][i]==1):\n",
    "        c=crops[i]\n",
    "        count=count+1\n",
    "        break;\n",
    "    i=i+1\n",
    "if(count==0):\n",
    "    print('The predicted crop is %s'%cr)\n",
    "else:\n",
    "    print('The predicted crop is %s'%c)\n",
    "\n",
    "\n",
    "print('\\nThank you,Hope you like it.\\nPlease,your fitback will be appreciated')\n",
    "\n",
    "'''Sending the predicted crop to database\n",
    "cp=firebase.put('/croppredicted','crop',c)'''"
   ]
  },
  {
   "cell_type": "code",
   "execution_count": null,
   "metadata": {},
   "outputs": [],
   "source": []
  }
 ],
 "metadata": {
  "kernelspec": {
   "display_name": "Python 3",
   "language": "python",
   "name": "python3"
  },
  "language_info": {
   "codemirror_mode": {
    "name": "ipython",
    "version": 3
   },
   "file_extension": ".py",
   "mimetype": "text/x-python",
   "name": "python",
   "nbconvert_exporter": "python",
   "pygments_lexer": "ipython3",
   "version": "3.8.3"
  }
 },
 "nbformat": 4,
 "nbformat_minor": 4
}
